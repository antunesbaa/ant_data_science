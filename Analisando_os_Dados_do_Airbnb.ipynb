{
  "cells": [
    {
      "cell_type": "markdown",
      "metadata": {
        "id": "view-in-github",
        "colab_type": "text"
      },
      "source": [
        "<a href=\"https://colab.research.google.com/github/antunesbaa/ant_data_science/blob/main/Analisando_os_Dados_do_Airbnb.ipynb\" target=\"_parent\"><img src=\"https://colab.research.google.com/assets/colab-badge.svg\" alt=\"Open In Colab\"/></a>"
      ]
    },
    {
      "cell_type": "markdown",
      "metadata": {
        "id": "JbSXHRMZbyVW"
      },
      "source": [
        "# **Analisando Dados do AirBnb - Santiago / Chile**\n",
        "\n",
        "O Airbnb é uma plataforma online que possibilita o aluguel de casas e quartos para viajantes ao redor do mundo. Desde sua fundação em 2008, tornou-se uma das maiores plataformas de compartilhamento de hospedagem, com mais de 7 milhões de listagens em 220 países. \n",
        "\n",
        "Os usuários podem pesquisar e reservar acomodações por meio do site ou aplicativo do Airbnb, que oferece opções desde apartamentos simples até castelos extravagantes, além de experiências personalizadas oferecidas pelos anfitriões. Em 2021, o Airbnb divulgou ter mais de 4 milhões de anfitriões em todo o mundo e ter hospedado mais de 900 milhões de hóspedes desde sua criação. \n",
        "\n",
        "A plataforma é uma opção popular para viajantes que buscam hospedagens mais econômicas e autênticas, enquanto oferece a oportunidade para anfitriões ganharem dinheiro extra alugando seus espaços. Embora tenha enfrentado algumas controvérsias em relação a regulamentações de hospedagem e problemas de segurança, o Airbnb continua a crescer e expandir sua oferta de serviços. \n",
        "\n",
        "Além disso, a plataforma oferece acesso limitado a dados abertos de propriedades e reservas por meio da plataforma \"Inside Airbnb\".\n",
        "\n",
        "##### **Neste Notebook, faremos uma análise dos dados da cidade de Santiago do Chile e exploraremos quais informações podem ser extraídas desses dados**."
      ]
    },
    {
      "cell_type": "markdown",
      "metadata": {
        "id": "2JfrBfjCbyVb"
      },
      "source": [
        "## Obtenção dos Dados\n",
        "\n",
        "Os dados utilizados neste Notebook foram extraídos do site [Inside Airbnb](http://insideairbnb.com/get-the-data.html).\n",
        "\n",
        "A análise exploratória dos dados será feita por meio do arquivo:\n",
        "* `listinings.csv` - Summary information and metrics for listings in Santiago (good for visualisations).\n",
        "\n",
        "`Ìmportante`: O portal está em constante desenvolvimento, e em algum momento futuro, é possível que o conjunto de dados específico utilizado neste notebook não esteja mais acessível, o que pode causar falhas no nosso código.\n",
        "Sendo assim, para que você sempre consiga utilizar esses dados, eles ficaram disponíveis [Aqui](https://drive.google.com/file/d/1O0MF1nrUBdh3dfEh0rXru7YAZrQYio06/view).\n",
        "\n",
        "Vamos ao Projeto.\n"
      ]
    },
    {
      "cell_type": "code",
      "execution_count": null,
      "metadata": {
        "id": "Vhp2wMPgJ6zX"
      },
      "outputs": [],
      "source": [
        "# importar os pacotes necessarios\n",
        "## Obtenção dos Dados\n",
        "import pandas as pd\n",
        "import matplotlib.pyplot as plt\n",
        "import seaborn as sns\n",
        "\n",
        "%matplotlib inline"
      ]
    },
    {
      "cell_type": "code",
      "source": [
        "from google.colab import drive\n",
        "drive.mount('/content/drive')"
      ],
      "metadata": {
        "id": "6jurA2eDcCMb"
      },
      "execution_count": null,
      "outputs": []
    },
    {
      "cell_type": "code",
      "execution_count": 5,
      "metadata": {
        "id": "tUmoAT8DLQ5T"
      },
      "outputs": [],
      "source": [
        "# importar o arquivo listings.csv para um DataFrame\n",
        "df = pd.read_csv('/content/drive/MyDrive/Colab Notebooks/MEUS PROJETOS/PROJETO 1 - ANALISANDO DADOS DO AIRBNB/listings.csv')\n"
      ]
    },
    {
      "cell_type": "markdown",
      "metadata": {
        "id": "qb5By2nIMS6m"
      },
      "source": [
        "## Análise dos Dados\n",
        "\n",
        "O objetivo desta fase é gerar uma compreensão inicial da situação e adquirir um entendimento de como os dados estão organizados."
      ]
    },
    {
      "cell_type": "markdown",
      "metadata": {
        "id": "RYgvuebKNg8-"
      },
      "source": [
        "**Dicionário das variáveis**\n",
        "\n",
        "* `id`: Número de identificação único para cada listagem no Airbnb.\n",
        "*  `host_id`: Número de identificação único do host (anfitrião) que está listando a propriedade.\n",
        "* `host_name`: Nome do host (anfitrião) que está listando a propriedade.\n",
        "* `neighbourhood_group`: Área geográfica mais ampla onde a propriedade está localizada. \n",
        "* `neighbourhood`: Bairro onde a propriedade está localizada.\n",
        "* `latitude`: Coordenada de latitude da localização da propriedade.\n",
        "* `longitude`: Coordenada de longitude da localização da propriedade.\n",
        "* `room_type`: O tipo de acomodação que está sendo anunciada (por exemplo, apartamento inteiro, quarto privado, quarto compartilhado, etc.).\n",
        "* `price`: O preço cobrado pela propriedade anunciada.\n",
        "* `minimum_nights`: O número mínimo de noites que um hóspede deve reservar para ficar na propriedade.\n",
        "* `number_of_reviews`: O número total de avaliações que a propriedade recebeu de hóspedes anteriores.\n",
        "* `last_review`: A data da última avaliação deixada por um hóspede.\n",
        "* `reviews_per_month`: A taxa média de revisão deixada por mês.\n",
        "* `calculated_host_listings_count`: O número de propriedades que o host (anfitrião) está listando na plataforma.\n",
        "* `availability_365`: O número de dias que a propriedade está disponível para reserva durante o próximo ano.\n",
        "* `number_of_reviews_ltm`: O número total de avaliações que a propriedade recebeu durante o último trimestre.\n",
        "* `license`: Informação sobre a licença de funcionamento da propriedade, se aplicável. \n",
        "\n",
        "\n",
        "Antes de iniciar qualquer análise, vamos verificar a cara do nosso *dataset*, analisando as 5 primeiras entradas."
      ]
    },
    {
      "cell_type": "code",
      "execution_count": 6,
      "metadata": {
        "id": "2iS_dae7YQtO",
        "outputId": "8adeecfc-cab1-4242-9112-75f07e9666d4",
        "colab": {
          "base_uri": "https://localhost:8080/",
          "height": 496
        }
      },
      "outputs": [
        {
          "output_type": "execute_result",
          "data": {
            "text/plain": [
              "        id                                name  host_id host_name  \\\n",
              "0    49392        Share my Flat in Providencia   224592     Maria   \n",
              "1   559852         Deluxe 2 Bedrooms Apartment  2752180    Marcos   \n",
              "2    52811  Suite Providencia 1 Santiago Chile   244792  Cristián   \n",
              "3  1854958         2do piso casa en Las Condes  9682413    Felipe   \n",
              "4    53494  depto centro ski el colorado chile   249097   Paulina   \n",
              "\n",
              "   neighbourhood_group neighbourhood  latitude  longitude        room_type  \\\n",
              "0                  NaN   Providencia -33.43266  -70.60072     Private room   \n",
              "1                  NaN   Providencia -33.42649  -70.61571  Entire home/apt   \n",
              "2                  NaN   Providencia -33.42959  -70.61880  Entire home/apt   \n",
              "3                  NaN    Las Condes -33.40346  -70.54718     Private room   \n",
              "4                  NaN  Lo Barnechea -33.34344  -70.29432  Entire home/apt   \n",
              "\n",
              "    price  minimum_nights  number_of_reviews last_review  reviews_per_month  \\\n",
              "0   45796               3                  0         NaN                NaN   \n",
              "1   95049               2                 12  2019-07-14               0.13   \n",
              "2   46660               1                 46  2021-11-04               0.31   \n",
              "3   43204               1                  0         NaN                NaN   \n",
              "4  149999               2                 38  2021-05-22               0.48   \n",
              "\n",
              "   calculated_host_listings_count  availability_365  number_of_reviews_ltm  \\\n",
              "0                               1               178                      0   \n",
              "1                               7               362                      0   \n",
              "2                               3                89                      0   \n",
              "3                               1               365                      0   \n",
              "4                               1               182                      0   \n",
              "\n",
              "  license  \n",
              "0     NaN  \n",
              "1     NaN  \n",
              "2     NaN  \n",
              "3     NaN  \n",
              "4     NaN  "
            ],
            "text/html": [
              "\n",
              "  <div id=\"df-42a3fd05-93db-431f-a60c-c76aa143de5f\">\n",
              "    <div class=\"colab-df-container\">\n",
              "      <div>\n",
              "<style scoped>\n",
              "    .dataframe tbody tr th:only-of-type {\n",
              "        vertical-align: middle;\n",
              "    }\n",
              "\n",
              "    .dataframe tbody tr th {\n",
              "        vertical-align: top;\n",
              "    }\n",
              "\n",
              "    .dataframe thead th {\n",
              "        text-align: right;\n",
              "    }\n",
              "</style>\n",
              "<table border=\"1\" class=\"dataframe\">\n",
              "  <thead>\n",
              "    <tr style=\"text-align: right;\">\n",
              "      <th></th>\n",
              "      <th>id</th>\n",
              "      <th>name</th>\n",
              "      <th>host_id</th>\n",
              "      <th>host_name</th>\n",
              "      <th>neighbourhood_group</th>\n",
              "      <th>neighbourhood</th>\n",
              "      <th>latitude</th>\n",
              "      <th>longitude</th>\n",
              "      <th>room_type</th>\n",
              "      <th>price</th>\n",
              "      <th>minimum_nights</th>\n",
              "      <th>number_of_reviews</th>\n",
              "      <th>last_review</th>\n",
              "      <th>reviews_per_month</th>\n",
              "      <th>calculated_host_listings_count</th>\n",
              "      <th>availability_365</th>\n",
              "      <th>number_of_reviews_ltm</th>\n",
              "      <th>license</th>\n",
              "    </tr>\n",
              "  </thead>\n",
              "  <tbody>\n",
              "    <tr>\n",
              "      <th>0</th>\n",
              "      <td>49392</td>\n",
              "      <td>Share my Flat in Providencia</td>\n",
              "      <td>224592</td>\n",
              "      <td>Maria</td>\n",
              "      <td>NaN</td>\n",
              "      <td>Providencia</td>\n",
              "      <td>-33.43266</td>\n",
              "      <td>-70.60072</td>\n",
              "      <td>Private room</td>\n",
              "      <td>45796</td>\n",
              "      <td>3</td>\n",
              "      <td>0</td>\n",
              "      <td>NaN</td>\n",
              "      <td>NaN</td>\n",
              "      <td>1</td>\n",
              "      <td>178</td>\n",
              "      <td>0</td>\n",
              "      <td>NaN</td>\n",
              "    </tr>\n",
              "    <tr>\n",
              "      <th>1</th>\n",
              "      <td>559852</td>\n",
              "      <td>Deluxe 2 Bedrooms Apartment</td>\n",
              "      <td>2752180</td>\n",
              "      <td>Marcos</td>\n",
              "      <td>NaN</td>\n",
              "      <td>Providencia</td>\n",
              "      <td>-33.42649</td>\n",
              "      <td>-70.61571</td>\n",
              "      <td>Entire home/apt</td>\n",
              "      <td>95049</td>\n",
              "      <td>2</td>\n",
              "      <td>12</td>\n",
              "      <td>2019-07-14</td>\n",
              "      <td>0.13</td>\n",
              "      <td>7</td>\n",
              "      <td>362</td>\n",
              "      <td>0</td>\n",
              "      <td>NaN</td>\n",
              "    </tr>\n",
              "    <tr>\n",
              "      <th>2</th>\n",
              "      <td>52811</td>\n",
              "      <td>Suite Providencia 1 Santiago Chile</td>\n",
              "      <td>244792</td>\n",
              "      <td>Cristián</td>\n",
              "      <td>NaN</td>\n",
              "      <td>Providencia</td>\n",
              "      <td>-33.42959</td>\n",
              "      <td>-70.61880</td>\n",
              "      <td>Entire home/apt</td>\n",
              "      <td>46660</td>\n",
              "      <td>1</td>\n",
              "      <td>46</td>\n",
              "      <td>2021-11-04</td>\n",
              "      <td>0.31</td>\n",
              "      <td>3</td>\n",
              "      <td>89</td>\n",
              "      <td>0</td>\n",
              "      <td>NaN</td>\n",
              "    </tr>\n",
              "    <tr>\n",
              "      <th>3</th>\n",
              "      <td>1854958</td>\n",
              "      <td>2do piso casa en Las Condes</td>\n",
              "      <td>9682413</td>\n",
              "      <td>Felipe</td>\n",
              "      <td>NaN</td>\n",
              "      <td>Las Condes</td>\n",
              "      <td>-33.40346</td>\n",
              "      <td>-70.54718</td>\n",
              "      <td>Private room</td>\n",
              "      <td>43204</td>\n",
              "      <td>1</td>\n",
              "      <td>0</td>\n",
              "      <td>NaN</td>\n",
              "      <td>NaN</td>\n",
              "      <td>1</td>\n",
              "      <td>365</td>\n",
              "      <td>0</td>\n",
              "      <td>NaN</td>\n",
              "    </tr>\n",
              "    <tr>\n",
              "      <th>4</th>\n",
              "      <td>53494</td>\n",
              "      <td>depto centro ski el colorado chile</td>\n",
              "      <td>249097</td>\n",
              "      <td>Paulina</td>\n",
              "      <td>NaN</td>\n",
              "      <td>Lo Barnechea</td>\n",
              "      <td>-33.34344</td>\n",
              "      <td>-70.29432</td>\n",
              "      <td>Entire home/apt</td>\n",
              "      <td>149999</td>\n",
              "      <td>2</td>\n",
              "      <td>38</td>\n",
              "      <td>2021-05-22</td>\n",
              "      <td>0.48</td>\n",
              "      <td>1</td>\n",
              "      <td>182</td>\n",
              "      <td>0</td>\n",
              "      <td>NaN</td>\n",
              "    </tr>\n",
              "  </tbody>\n",
              "</table>\n",
              "</div>\n",
              "      <button class=\"colab-df-convert\" onclick=\"convertToInteractive('df-42a3fd05-93db-431f-a60c-c76aa143de5f')\"\n",
              "              title=\"Convert this dataframe to an interactive table.\"\n",
              "              style=\"display:none;\">\n",
              "        \n",
              "  <svg xmlns=\"http://www.w3.org/2000/svg\" height=\"24px\"viewBox=\"0 0 24 24\"\n",
              "       width=\"24px\">\n",
              "    <path d=\"M0 0h24v24H0V0z\" fill=\"none\"/>\n",
              "    <path d=\"M18.56 5.44l.94 2.06.94-2.06 2.06-.94-2.06-.94-.94-2.06-.94 2.06-2.06.94zm-11 1L8.5 8.5l.94-2.06 2.06-.94-2.06-.94L8.5 2.5l-.94 2.06-2.06.94zm10 10l.94 2.06.94-2.06 2.06-.94-2.06-.94-.94-2.06-.94 2.06-2.06.94z\"/><path d=\"M17.41 7.96l-1.37-1.37c-.4-.4-.92-.59-1.43-.59-.52 0-1.04.2-1.43.59L10.3 9.45l-7.72 7.72c-.78.78-.78 2.05 0 2.83L4 21.41c.39.39.9.59 1.41.59.51 0 1.02-.2 1.41-.59l7.78-7.78 2.81-2.81c.8-.78.8-2.07 0-2.86zM5.41 20L4 18.59l7.72-7.72 1.47 1.35L5.41 20z\"/>\n",
              "  </svg>\n",
              "      </button>\n",
              "      \n",
              "  <style>\n",
              "    .colab-df-container {\n",
              "      display:flex;\n",
              "      flex-wrap:wrap;\n",
              "      gap: 12px;\n",
              "    }\n",
              "\n",
              "    .colab-df-convert {\n",
              "      background-color: #E8F0FE;\n",
              "      border: none;\n",
              "      border-radius: 50%;\n",
              "      cursor: pointer;\n",
              "      display: none;\n",
              "      fill: #1967D2;\n",
              "      height: 32px;\n",
              "      padding: 0 0 0 0;\n",
              "      width: 32px;\n",
              "    }\n",
              "\n",
              "    .colab-df-convert:hover {\n",
              "      background-color: #E2EBFA;\n",
              "      box-shadow: 0px 1px 2px rgba(60, 64, 67, 0.3), 0px 1px 3px 1px rgba(60, 64, 67, 0.15);\n",
              "      fill: #174EA6;\n",
              "    }\n",
              "\n",
              "    [theme=dark] .colab-df-convert {\n",
              "      background-color: #3B4455;\n",
              "      fill: #D2E3FC;\n",
              "    }\n",
              "\n",
              "    [theme=dark] .colab-df-convert:hover {\n",
              "      background-color: #434B5C;\n",
              "      box-shadow: 0px 1px 3px 1px rgba(0, 0, 0, 0.15);\n",
              "      filter: drop-shadow(0px 1px 2px rgba(0, 0, 0, 0.3));\n",
              "      fill: #FFFFFF;\n",
              "    }\n",
              "  </style>\n",
              "\n",
              "      <script>\n",
              "        const buttonEl =\n",
              "          document.querySelector('#df-42a3fd05-93db-431f-a60c-c76aa143de5f button.colab-df-convert');\n",
              "        buttonEl.style.display =\n",
              "          google.colab.kernel.accessAllowed ? 'block' : 'none';\n",
              "\n",
              "        async function convertToInteractive(key) {\n",
              "          const element = document.querySelector('#df-42a3fd05-93db-431f-a60c-c76aa143de5f');\n",
              "          const dataTable =\n",
              "            await google.colab.kernel.invokeFunction('convertToInteractive',\n",
              "                                                     [key], {});\n",
              "          if (!dataTable) return;\n",
              "\n",
              "          const docLinkHtml = 'Like what you see? Visit the ' +\n",
              "            '<a target=\"_blank\" href=https://colab.research.google.com/notebooks/data_table.ipynb>data table notebook</a>'\n",
              "            + ' to learn more about interactive tables.';\n",
              "          element.innerHTML = '';\n",
              "          dataTable['output_type'] = 'display_data';\n",
              "          await google.colab.output.renderOutput(dataTable, element);\n",
              "          const docLink = document.createElement('div');\n",
              "          docLink.innerHTML = docLinkHtml;\n",
              "          element.appendChild(docLink);\n",
              "        }\n",
              "      </script>\n",
              "    </div>\n",
              "  </div>\n",
              "  "
            ]
          },
          "metadata": {},
          "execution_count": 6
        }
      ],
      "source": [
        "# mostrar as 5 primeiras entradas\n",
        "df.head()"
      ]
    },
    {
      "cell_type": "markdown",
      "metadata": {
        "id": "6-B_qtEaYEd-"
      },
      "source": [
        "### **Q1. Quantos atributos (variáveis) e quantas entradas o nosso conjunto de dados possui? Quais os tipos das variáveis?**\n",
        "\n",
        "Agora vamos verificar quantas linhas (entradas) e quantas colunas  (variáveis) nosso conjunto de dados possui. "
      ]
    },
    {
      "cell_type": "code",
      "execution_count": 7,
      "metadata": {
        "id": "TFRK0tniLV-G",
        "outputId": "88d98238-f89b-4088-a395-6989b40d7be3",
        "colab": {
          "base_uri": "https://localhost:8080/"
        }
      },
      "outputs": [
        {
          "output_type": "stream",
          "name": "stdout",
          "text": [
            "Entradas: 9128\n",
            "Variaveis: 18\n",
            "\n"
          ]
        },
        {
          "output_type": "execute_result",
          "data": {
            "text/plain": [
              "id                                  int64\n",
              "name                               object\n",
              "host_id                             int64\n",
              "host_name                          object\n",
              "neighbourhood_group               float64\n",
              "neighbourhood                      object\n",
              "latitude                          float64\n",
              "longitude                         float64\n",
              "room_type                          object\n",
              "price                               int64\n",
              "minimum_nights                      int64\n",
              "number_of_reviews                   int64\n",
              "last_review                        object\n",
              "reviews_per_month                 float64\n",
              "calculated_host_listings_count      int64\n",
              "availability_365                    int64\n",
              "number_of_reviews_ltm               int64\n",
              "license                            object\n",
              "dtype: object"
            ]
          },
          "metadata": {},
          "execution_count": 7
        }
      ],
      "source": [
        "# identificar o volume de dados do DataFrame\n",
        "print('Entradas: {}' .format(df.shape[0]))\n",
        "print('Variaveis: {}\\n' .format(df.shape[1]))\n",
        "\n",
        "# verificar os tipos de cada coluna do dataset\n",
        "df.dtypes"
      ]
    },
    {
      "cell_type": "markdown",
      "metadata": {
        "id": "yz1urSUGW9iE"
      },
      "source": [
        "### **Q2. Qual a porcentagem de valores ausentes no *dataset*?**\n",
        "\n",
        "É importante observar logo no inicio da análise a qualidade do dataset, por meio dos valores ausentes. É interessante entendermos se a quantidade de valores ausentes são significativos em relaçao ao número total de dados. \n",
        "\n",
        "* É possível verificar que na coluna `neighbourhood_group` e `license` possuem 100% e 98% dos seus valores faltantes.\n",
        "\n",
        "* As colunas `reviews_per_month`e `last_review`possuem 1/4 dos seus valores faltantes."
      ]
    },
    {
      "cell_type": "code",
      "execution_count": 8,
      "metadata": {
        "id": "plk2FjbCXOqP",
        "outputId": "d1ca6d87-8d7f-468d-cee6-8ffd064994c0",
        "colab": {
          "base_uri": "https://localhost:8080/"
        }
      },
      "outputs": [
        {
          "output_type": "execute_result",
          "data": {
            "text/plain": [
              "neighbourhood_group               1.000000\n",
              "license                           0.974474\n",
              "reviews_per_month                 0.248028\n",
              "last_review                       0.248028\n",
              "name                              0.000329\n",
              "minimum_nights                    0.000000\n",
              "number_of_reviews_ltm             0.000000\n",
              "availability_365                  0.000000\n",
              "calculated_host_listings_count    0.000000\n",
              "number_of_reviews                 0.000000\n",
              "id                                0.000000\n",
              "room_type                         0.000000\n",
              "longitude                         0.000000\n",
              "latitude                          0.000000\n",
              "neighbourhood                     0.000000\n",
              "host_name                         0.000000\n",
              "host_id                           0.000000\n",
              "price                             0.000000\n",
              "dtype: float64"
            ]
          },
          "metadata": {},
          "execution_count": 8
        }
      ],
      "source": [
        "# ordenar em ordem decrescente as variáveis por seus valores ausentes\n",
        "(df.isnull().sum() / df.shape[0]).sort_values(ascending=False)"
      ]
    },
    {
      "cell_type": "markdown",
      "metadata": {
        "id": "iHXvvHIxaoNc"
      },
      "source": [
        "### **Q3. Qual o tipo de distribuição das variáveis?** \n",
        "\n",
        "Para isso, irei plotar o histograsma."
      ]
    },
    {
      "cell_type": "code",
      "execution_count": 9,
      "metadata": {
        "id": "q2wWSfeRbmBo",
        "tags": [],
        "outputId": "22621146-0b6c-48c8-c073-f1528072f061",
        "colab": {
          "base_uri": "https://localhost:8080/",
          "height": 607
        }
      },
      "outputs": [
        {
          "output_type": "display_data",
          "data": {
            "text/plain": [
              "<Figure size 1080x720 with 12 Axes>"
            ],
            "image/png": "[encoded data removed]"
          },
          "metadata": {
            "needs_background": "light"
          }
        }
      ],
      "source": [
        "# plotar o histograma das variáveis numéricas\n",
        "df.hist(bins=15, figsize=(15,10));"
      ]
    },
    {
      "cell_type": "markdown",
      "metadata": {
        "id": "0MTawUBbbyVj"
      },
      "source": [
        "### **Q4. Há Outliers presentes?**"
      ]
    },
    {
      "cell_type": "markdown",
      "metadata": {
        "tags": [],
        "id": "EuUQ2B93byVj"
      },
      "source": [
        "Verificando a distribuição do Histograma, os valores que não seguem uma distribuição e distorcem toda a representação gráfica indicam a presença de outliers, como é o caso das variáveis `price`, e `minimum_nights`.\n",
        "Existem duas formas rṕapidas para confirmarmos isso:\n",
        "\n",
        "* Resumo estatístico: discribe()\n",
        "* Plotar boxplots para a variável.\n",
        "\n"
      ]
    },
    {
      "cell_type": "code",
      "execution_count": 10,
      "metadata": {
        "tags": [],
        "id": "lCOkgaL0byVk",
        "outputId": "037f25b0-fc7b-437a-cb83-3ec5c007319b",
        "colab": {
          "base_uri": "https://localhost:8080/",
          "height": 300
        }
      },
      "outputs": [
        {
          "output_type": "execute_result",
          "data": {
            "text/plain": [
              "              price  minimum_nights  number_of_reviews  reviews_per_month  \\\n",
              "count  9.128000e+03     9128.000000        9128.000000        6864.000000   \n",
              "mean   1.016054e+05        7.283852          24.123466           1.293756   \n",
              "std    9.914056e+05       31.521523          49.084561           1.568765   \n",
              "min    6.830000e+03        1.000000           0.000000           0.010000   \n",
              "25%    2.971400e+04        1.000000           1.000000           0.250000   \n",
              "50%    4.285700e+04        2.000000           5.000000           0.750000   \n",
              "75%    6.671400e+04        3.000000          24.000000           1.790000   \n",
              "max    5.184489e+07     1124.000000         852.000000          20.900000   \n",
              "\n",
              "       calculated_host_listings_count  availability_365  \n",
              "count                     9128.000000       9128.000000  \n",
              "mean                         4.104733        249.527388  \n",
              "std                          6.603516        129.508072  \n",
              "min                          1.000000          0.000000  \n",
              "25%                          1.000000        140.750000  \n",
              "50%                          1.000000        326.000000  \n",
              "75%                          4.000000        362.000000  \n",
              "max                         44.000000        365.000000  "
            ],
            "text/html": [
              "\n",
              "  <div id=\"df-25473ed0-a94b-4a13-85a9-b428b2b4dfc0\">\n",
              "    <div class=\"colab-df-container\">\n",
              "      <div>\n",
              "<style scoped>\n",
              "    .dataframe tbody tr th:only-of-type {\n",
              "        vertical-align: middle;\n",
              "    }\n",
              "\n",
              "    .dataframe tbody tr th {\n",
              "        vertical-align: top;\n",
              "    }\n",
              "\n",
              "    .dataframe thead th {\n",
              "        text-align: right;\n",
              "    }\n",
              "</style>\n",
              "<table border=\"1\" class=\"dataframe\">\n",
              "  <thead>\n",
              "    <tr style=\"text-align: right;\">\n",
              "      <th></th>\n",
              "      <th>price</th>\n",
              "      <th>minimum_nights</th>\n",
              "      <th>number_of_reviews</th>\n",
              "      <th>reviews_per_month</th>\n",
              "      <th>calculated_host_listings_count</th>\n",
              "      <th>availability_365</th>\n",
              "    </tr>\n",
              "  </thead>\n",
              "  <tbody>\n",
              "    <tr>\n",
              "      <th>count</th>\n",
              "      <td>9.128000e+03</td>\n",
              "      <td>9128.000000</td>\n",
              "      <td>9128.000000</td>\n",
              "      <td>6864.000000</td>\n",
              "      <td>9128.000000</td>\n",
              "      <td>9128.000000</td>\n",
              "    </tr>\n",
              "    <tr>\n",
              "      <th>mean</th>\n",
              "      <td>1.016054e+05</td>\n",
              "      <td>7.283852</td>\n",
              "      <td>24.123466</td>\n",
              "      <td>1.293756</td>\n",
              "      <td>4.104733</td>\n",
              "      <td>249.527388</td>\n",
              "    </tr>\n",
              "    <tr>\n",
              "      <th>std</th>\n",
              "      <td>9.914056e+05</td>\n",
              "      <td>31.521523</td>\n",
              "      <td>49.084561</td>\n",
              "      <td>1.568765</td>\n",
              "      <td>6.603516</td>\n",
              "      <td>129.508072</td>\n",
              "    </tr>\n",
              "    <tr>\n",
              "      <th>min</th>\n",
              "      <td>6.830000e+03</td>\n",
              "      <td>1.000000</td>\n",
              "      <td>0.000000</td>\n",
              "      <td>0.010000</td>\n",
              "      <td>1.000000</td>\n",
              "      <td>0.000000</td>\n",
              "    </tr>\n",
              "    <tr>\n",
              "      <th>25%</th>\n",
              "      <td>2.971400e+04</td>\n",
              "      <td>1.000000</td>\n",
              "      <td>1.000000</td>\n",
              "      <td>0.250000</td>\n",
              "      <td>1.000000</td>\n",
              "      <td>140.750000</td>\n",
              "    </tr>\n",
              "    <tr>\n",
              "      <th>50%</th>\n",
              "      <td>4.285700e+04</td>\n",
              "      <td>2.000000</td>\n",
              "      <td>5.000000</td>\n",
              "      <td>0.750000</td>\n",
              "      <td>1.000000</td>\n",
              "      <td>326.000000</td>\n",
              "    </tr>\n",
              "    <tr>\n",
              "      <th>75%</th>\n",
              "      <td>6.671400e+04</td>\n",
              "      <td>3.000000</td>\n",
              "      <td>24.000000</td>\n",
              "      <td>1.790000</td>\n",
              "      <td>4.000000</td>\n",
              "      <td>362.000000</td>\n",
              "    </tr>\n",
              "    <tr>\n",
              "      <th>max</th>\n",
              "      <td>5.184489e+07</td>\n",
              "      <td>1124.000000</td>\n",
              "      <td>852.000000</td>\n",
              "      <td>20.900000</td>\n",
              "      <td>44.000000</td>\n",
              "      <td>365.000000</td>\n",
              "    </tr>\n",
              "  </tbody>\n",
              "</table>\n",
              "</div>\n",
              "      <button class=\"colab-df-convert\" onclick=\"convertToInteractive('df-25473ed0-a94b-4a13-85a9-b428b2b4dfc0')\"\n",
              "              title=\"Convert this dataframe to an interactive table.\"\n",
              "              style=\"display:none;\">\n",
              "        \n",
              "  <svg xmlns=\"http://www.w3.org/2000/svg\" height=\"24px\"viewBox=\"0 0 24 24\"\n",
              "       width=\"24px\">\n",
              "    <path d=\"M0 0h24v24H0V0z\" fill=\"none\"/>\n",
              "    <path d=\"M18.56 5.44l.94 2.06.94-2.06 2.06-.94-2.06-.94-.94-2.06-.94 2.06-2.06.94zm-11 1L8.5 8.5l.94-2.06 2.06-.94-2.06-.94L8.5 2.5l-.94 2.06-2.06.94zm10 10l.94 2.06.94-2.06 2.06-.94-2.06-.94-.94-2.06-.94 2.06-2.06.94z\"/><path d=\"M17.41 7.96l-1.37-1.37c-.4-.4-.92-.59-1.43-.59-.52 0-1.04.2-1.43.59L10.3 9.45l-7.72 7.72c-.78.78-.78 2.05 0 2.83L4 21.41c.39.39.9.59 1.41.59.51 0 1.02-.2 1.41-.59l7.78-7.78 2.81-2.81c.8-.78.8-2.07 0-2.86zM5.41 20L4 18.59l7.72-7.72 1.47 1.35L5.41 20z\"/>\n",
              "  </svg>\n",
              "      </button>\n",
              "      \n",
              "  <style>\n",
              "    .colab-df-container {\n",
              "      display:flex;\n",
              "      flex-wrap:wrap;\n",
              "      gap: 12px;\n",
              "    }\n",
              "\n",
              "    .colab-df-convert {\n",
              "      background-color: #E8F0FE;\n",
              "      border: none;\n",
              "      border-radius: 50%;\n",
              "      cursor: pointer;\n",
              "      display: none;\n",
              "      fill: #1967D2;\n",
              "      height: 32px;\n",
              "      padding: 0 0 0 0;\n",
              "      width: 32px;\n",
              "    }\n",
              "\n",
              "    .colab-df-convert:hover {\n",
              "      background-color: #E2EBFA;\n",
              "      box-shadow: 0px 1px 2px rgba(60, 64, 67, 0.3), 0px 1px 3px 1px rgba(60, 64, 67, 0.15);\n",
              "      fill: #174EA6;\n",
              "    }\n",
              "\n",
              "    [theme=dark] .colab-df-convert {\n",
              "      background-color: #3B4455;\n",
              "      fill: #D2E3FC;\n",
              "    }\n",
              "\n",
              "    [theme=dark] .colab-df-convert:hover {\n",
              "      background-color: #434B5C;\n",
              "      box-shadow: 0px 1px 3px 1px rgba(0, 0, 0, 0.15);\n",
              "      filter: drop-shadow(0px 1px 2px rgba(0, 0, 0, 0.3));\n",
              "      fill: #FFFFFF;\n",
              "    }\n",
              "  </style>\n",
              "\n",
              "      <script>\n",
              "        const buttonEl =\n",
              "          document.querySelector('#df-25473ed0-a94b-4a13-85a9-b428b2b4dfc0 button.colab-df-convert');\n",
              "        buttonEl.style.display =\n",
              "          google.colab.kernel.accessAllowed ? 'block' : 'none';\n",
              "\n",
              "        async function convertToInteractive(key) {\n",
              "          const element = document.querySelector('#df-25473ed0-a94b-4a13-85a9-b428b2b4dfc0');\n",
              "          const dataTable =\n",
              "            await google.colab.kernel.invokeFunction('convertToInteractive',\n",
              "                                                     [key], {});\n",
              "          if (!dataTable) return;\n",
              "\n",
              "          const docLinkHtml = 'Like what you see? Visit the ' +\n",
              "            '<a target=\"_blank\" href=https://colab.research.google.com/notebooks/data_table.ipynb>data table notebook</a>'\n",
              "            + ' to learn more about interactive tables.';\n",
              "          element.innerHTML = '';\n",
              "          dataTable['output_type'] = 'display_data';\n",
              "          await google.colab.output.renderOutput(dataTable, element);\n",
              "          const docLink = document.createElement('div');\n",
              "          docLink.innerHTML = docLinkHtml;\n",
              "          element.appendChild(docLink);\n",
              "        }\n",
              "      </script>\n",
              "    </div>\n",
              "  </div>\n",
              "  "
            ]
          },
          "metadata": {},
          "execution_count": 10
        }
      ],
      "source": [
        "# ver o resumo estatístico das variáveis numéricas\n",
        "df[['price', 'minimum_nights', 'number_of_reviews', 'reviews_per_month',\n",
        "    'calculated_host_listings_count', 'availability_365']].describe() "
      ]
    },
    {
      "cell_type": "markdown",
      "metadata": {
        "id": "xX5fyaQ3byVk"
      },
      "source": [
        "Reparem que a coluna `price`apresentou uma notação científica ou exponencial. Nesse caso teremos que usar o método \"set_option\" do pandas fazer com que deixe de exibir a notação. Depois veremos o resuno estatístico novamente."
      ]
    },
    {
      "cell_type": "code",
      "execution_count": 11,
      "metadata": {
        "tags": [],
        "id": "DgtIDZ_bbyVk",
        "outputId": "272d0aa5-25e7-4413-954f-33da0bcf1b74",
        "colab": {
          "base_uri": "https://localhost:8080/",
          "height": 300
        }
      },
      "outputs": [
        {
          "output_type": "execute_result",
          "data": {
            "text/plain": [
              "            price  minimum_nights  number_of_reviews  reviews_per_month  \\\n",
              "count     9128.00         9128.00            9128.00            6864.00   \n",
              "mean    101605.41            7.28              24.12               1.29   \n",
              "std     991405.56           31.52              49.08               1.57   \n",
              "min       6830.00            1.00               0.00               0.01   \n",
              "25%      29714.00            1.00               1.00               0.25   \n",
              "50%      42857.00            2.00               5.00               0.75   \n",
              "75%      66714.00            3.00              24.00               1.79   \n",
              "max   51844886.00         1124.00             852.00              20.90   \n",
              "\n",
              "       calculated_host_listings_count  availability_365  \n",
              "count                         9128.00           9128.00  \n",
              "mean                             4.10            249.53  \n",
              "std                              6.60            129.51  \n",
              "min                              1.00              0.00  \n",
              "25%                              1.00            140.75  \n",
              "50%                              1.00            326.00  \n",
              "75%                              4.00            362.00  \n",
              "max                             44.00            365.00  "
            ],
            "text/html": [
              "\n",
              "  <div id=\"df-961c5ba1-375d-49e0-ad0f-c62636fa007b\">\n",
              "    <div class=\"colab-df-container\">\n",
              "      <div>\n",
              "<style scoped>\n",
              "    .dataframe tbody tr th:only-of-type {\n",
              "        vertical-align: middle;\n",
              "    }\n",
              "\n",
              "    .dataframe tbody tr th {\n",
              "        vertical-align: top;\n",
              "    }\n",
              "\n",
              "    .dataframe thead th {\n",
              "        text-align: right;\n",
              "    }\n",
              "</style>\n",
              "<table border=\"1\" class=\"dataframe\">\n",
              "  <thead>\n",
              "    <tr style=\"text-align: right;\">\n",
              "      <th></th>\n",
              "      <th>price</th>\n",
              "      <th>minimum_nights</th>\n",
              "      <th>number_of_reviews</th>\n",
              "      <th>reviews_per_month</th>\n",
              "      <th>calculated_host_listings_count</th>\n",
              "      <th>availability_365</th>\n",
              "    </tr>\n",
              "  </thead>\n",
              "  <tbody>\n",
              "    <tr>\n",
              "      <th>count</th>\n",
              "      <td>9128.00</td>\n",
              "      <td>9128.00</td>\n",
              "      <td>9128.00</td>\n",
              "      <td>6864.00</td>\n",
              "      <td>9128.00</td>\n",
              "      <td>9128.00</td>\n",
              "    </tr>\n",
              "    <tr>\n",
              "      <th>mean</th>\n",
              "      <td>101605.41</td>\n",
              "      <td>7.28</td>\n",
              "      <td>24.12</td>\n",
              "      <td>1.29</td>\n",
              "      <td>4.10</td>\n",
              "      <td>249.53</td>\n",
              "    </tr>\n",
              "    <tr>\n",
              "      <th>std</th>\n",
              "      <td>991405.56</td>\n",
              "      <td>31.52</td>\n",
              "      <td>49.08</td>\n",
              "      <td>1.57</td>\n",
              "      <td>6.60</td>\n",
              "      <td>129.51</td>\n",
              "    </tr>\n",
              "    <tr>\n",
              "      <th>min</th>\n",
              "      <td>6830.00</td>\n",
              "      <td>1.00</td>\n",
              "      <td>0.00</td>\n",
              "      <td>0.01</td>\n",
              "      <td>1.00</td>\n",
              "      <td>0.00</td>\n",
              "    </tr>\n",
              "    <tr>\n",
              "      <th>25%</th>\n",
              "      <td>29714.00</td>\n",
              "      <td>1.00</td>\n",
              "      <td>1.00</td>\n",
              "      <td>0.25</td>\n",
              "      <td>1.00</td>\n",
              "      <td>140.75</td>\n",
              "    </tr>\n",
              "    <tr>\n",
              "      <th>50%</th>\n",
              "      <td>42857.00</td>\n",
              "      <td>2.00</td>\n",
              "      <td>5.00</td>\n",
              "      <td>0.75</td>\n",
              "      <td>1.00</td>\n",
              "      <td>326.00</td>\n",
              "    </tr>\n",
              "    <tr>\n",
              "      <th>75%</th>\n",
              "      <td>66714.00</td>\n",
              "      <td>3.00</td>\n",
              "      <td>24.00</td>\n",
              "      <td>1.79</td>\n",
              "      <td>4.00</td>\n",
              "      <td>362.00</td>\n",
              "    </tr>\n",
              "    <tr>\n",
              "      <th>max</th>\n",
              "      <td>51844886.00</td>\n",
              "      <td>1124.00</td>\n",
              "      <td>852.00</td>\n",
              "      <td>20.90</td>\n",
              "      <td>44.00</td>\n",
              "      <td>365.00</td>\n",
              "    </tr>\n",
              "  </tbody>\n",
              "</table>\n",
              "</div>\n",
              "      <button class=\"colab-df-convert\" onclick=\"convertToInteractive('df-961c5ba1-375d-49e0-ad0f-c62636fa007b')\"\n",
              "              title=\"Convert this dataframe to an interactive table.\"\n",
              "              style=\"display:none;\">\n",
              "        \n",
              "  <svg xmlns=\"http://www.w3.org/2000/svg\" height=\"24px\"viewBox=\"0 0 24 24\"\n",
              "       width=\"24px\">\n",
              "    <path d=\"M0 0h24v24H0V0z\" fill=\"none\"/>\n",
              "    <path d=\"M18.56 5.44l.94 2.06.94-2.06 2.06-.94-2.06-.94-.94-2.06-.94 2.06-2.06.94zm-11 1L8.5 8.5l.94-2.06 2.06-.94-2.06-.94L8.5 2.5l-.94 2.06-2.06.94zm10 10l.94 2.06.94-2.06 2.06-.94-2.06-.94-.94-2.06-.94 2.06-2.06.94z\"/><path d=\"M17.41 7.96l-1.37-1.37c-.4-.4-.92-.59-1.43-.59-.52 0-1.04.2-1.43.59L10.3 9.45l-7.72 7.72c-.78.78-.78 2.05 0 2.83L4 21.41c.39.39.9.59 1.41.59.51 0 1.02-.2 1.41-.59l7.78-7.78 2.81-2.81c.8-.78.8-2.07 0-2.86zM5.41 20L4 18.59l7.72-7.72 1.47 1.35L5.41 20z\"/>\n",
              "  </svg>\n",
              "      </button>\n",
              "      \n",
              "  <style>\n",
              "    .colab-df-container {\n",
              "      display:flex;\n",
              "      flex-wrap:wrap;\n",
              "      gap: 12px;\n",
              "    }\n",
              "\n",
              "    .colab-df-convert {\n",
              "      background-color: #E8F0FE;\n",
              "      border: none;\n",
              "      border-radius: 50%;\n",
              "      cursor: pointer;\n",
              "      display: none;\n",
              "      fill: #1967D2;\n",
              "      height: 32px;\n",
              "      padding: 0 0 0 0;\n",
              "      width: 32px;\n",
              "    }\n",
              "\n",
              "    .colab-df-convert:hover {\n",
              "      background-color: #E2EBFA;\n",
              "      box-shadow: 0px 1px 2px rgba(60, 64, 67, 0.3), 0px 1px 3px 1px rgba(60, 64, 67, 0.15);\n",
              "      fill: #174EA6;\n",
              "    }\n",
              "\n",
              "    [theme=dark] .colab-df-convert {\n",
              "      background-color: #3B4455;\n",
              "      fill: #D2E3FC;\n",
              "    }\n",
              "\n",
              "    [theme=dark] .colab-df-convert:hover {\n",
              "      background-color: #434B5C;\n",
              "      box-shadow: 0px 1px 3px 1px rgba(0, 0, 0, 0.15);\n",
              "      filter: drop-shadow(0px 1px 2px rgba(0, 0, 0, 0.3));\n",
              "      fill: #FFFFFF;\n",
              "    }\n",
              "  </style>\n",
              "\n",
              "      <script>\n",
              "        const buttonEl =\n",
              "          document.querySelector('#df-961c5ba1-375d-49e0-ad0f-c62636fa007b button.colab-df-convert');\n",
              "        buttonEl.style.display =\n",
              "          google.colab.kernel.accessAllowed ? 'block' : 'none';\n",
              "\n",
              "        async function convertToInteractive(key) {\n",
              "          const element = document.querySelector('#df-961c5ba1-375d-49e0-ad0f-c62636fa007b');\n",
              "          const dataTable =\n",
              "            await google.colab.kernel.invokeFunction('convertToInteractive',\n",
              "                                                     [key], {});\n",
              "          if (!dataTable) return;\n",
              "\n",
              "          const docLinkHtml = 'Like what you see? Visit the ' +\n",
              "            '<a target=\"_blank\" href=https://colab.research.google.com/notebooks/data_table.ipynb>data table notebook</a>'\n",
              "            + ' to learn more about interactive tables.';\n",
              "          element.innerHTML = '';\n",
              "          dataTable['output_type'] = 'display_data';\n",
              "          await google.colab.output.renderOutput(dataTable, element);\n",
              "          const docLink = document.createElement('div');\n",
              "          docLink.innerHTML = docLinkHtml;\n",
              "          element.appendChild(docLink);\n",
              "        }\n",
              "      </script>\n",
              "    </div>\n",
              "  </div>\n",
              "  "
            ]
          },
          "metadata": {},
          "execution_count": 11
        }
      ],
      "source": [
        "pd.set_option('display.float_format', lambda x: '%.2f' % x)\n",
        "\n",
        "df[['price', 'minimum_nights', 'number_of_reviews', 'reviews_per_month',\n",
        "    'calculated_host_listings_count', 'availability_365']].describe()"
      ]
    },
    {
      "cell_type": "markdown",
      "metadata": {
        "id": "BjSA9-vkbyVl"
      },
      "source": [
        "Analisando o resumo estatístico, observamos que a variável `price`apresenta 75% do valor abaixo de 66714, porém seu valor máximo é 51844886.\n",
        "\n",
        "Na coluna `minimum_nights` a quantidade máxima de noites está em 1124 dias."
      ]
    },
    {
      "cell_type": "markdown",
      "metadata": {
        "id": "yFZZGxEPbyVl"
      },
      "source": [
        "#### **tratando a variável`price` e `minimum_nights`pelo método estatístico IQE**.\n",
        "\n",
        "O IQR (Interquartile Range) é uma medida de dispersão estatística que representa a diferença entre o terceiro quartil (Q3) e o primeiro quartil (Q1) de um conjunto de dados. O IQR é usado para identificar valores extremos em um conjunto de dados e é uma técnica comum para tratamento de outliers.\n",
        "\n",
        "O tratamento de variáveis pelo método IQR envolve a detecção e remoção de outliers em um conjunto de dados usando o IQR. O método IQR considera como outliers os valores que estão a mais de 1,5 vezes o IQR acima do terceiro quartil ou abaixo do primeiro quartil."
      ]
    },
    {
      "cell_type": "code",
      "execution_count": 12,
      "metadata": {
        "tags": [],
        "id": "Hn04QjArbyVl",
        "outputId": "2332e49c-15fb-4e95-fdf1-e7829db831e2",
        "colab": {
          "base_uri": "https://localhost:8080/"
        }
      },
      "outputs": [
        {
          "output_type": "stream",
          "name": "stdout",
          "text": [
            "IQR da variavel price: 37000.0\n",
            "Limite superior de price: 122214.0\n",
            "Limite inferior de price: -25786.0\n"
          ]
        }
      ],
      "source": [
        "#Identificando os outliers para variavel price\n",
        "q1_price = df.price.quantile(.25)\n",
        "q3_price = df.price.quantile(.75)\n",
        "IQR_price = q3_price - q1_price\n",
        "print('IQR da variavel price:', IQR_price )\n",
        "\n",
        "#Definindo os limites\n",
        "sup_price = q3_price + 1.5 * IQR_price\n",
        "inf_price = q1_price - 1.5 * IQR_price\n",
        "\n",
        "print('Limite superior de price:', sup_price)\n",
        "print('Limite inferior de price:', inf_price)\n",
        "\n"
      ]
    },
    {
      "cell_type": "code",
      "execution_count": 13,
      "metadata": {
        "tags": [],
        "id": "QzO-zPZMbyVm",
        "outputId": "125f26c8-8c5d-4ba0-fb09-032f153b0d3b",
        "colab": {
          "base_uri": "https://localhost:8080/",
          "height": 292
        }
      },
      "outputs": [
        {
          "output_type": "display_data",
          "data": {
            "text/plain": [
              "<Figure size 1080x216 with 1 Axes>"
            ],
            "image/png": "[encoded data removed]"
          },
          "metadata": {
            "needs_background": "light"
          }
        },
        {
          "output_type": "stream",
          "name": "stdout",
          "text": [
            "O dataset possui 9128 colunas\n",
            "925 Entradas acima de 122214.0\n",
            "Representam 10.13% do dataset\n"
          ]
        }
      ],
      "source": [
        "#Verificando o conjunto original\n",
        "fig, ax = plt.subplots(figsize=(15,3))\n",
        "df.price.plot(kind = 'box', vert=False);\n",
        "ax.set_title('Dataset original - price')\n",
        "plt.show()\n",
        "print(\"O dataset possui {} colunas\".format(df.shape[0]))\n",
        "print(\"{} Entradas acima de 122214.0\".format(len(df[df.price > 122214.0])))\n",
        "print(\"Representam {:.2f}% do dataset\".format((len(df[df.price > 122214.0]) / df.shape[0])*100))\n",
        "     "
      ]
    },
    {
      "cell_type": "code",
      "execution_count": 14,
      "metadata": {
        "tags": [],
        "id": "BZka-cy6byVm",
        "outputId": "4ba62524-a545-4154-d88b-39b00420dc89",
        "colab": {
          "base_uri": "https://localhost:8080/"
        }
      },
      "outputs": [
        {
          "output_type": "stream",
          "name": "stdout",
          "text": [
            "IQR da variável minimum_nights:  2.0\n",
            "Limite superior de minimum_nights:  6.0\n",
            "Limite inferior de minimum_nights:  -2.0\n"
          ]
        }
      ],
      "source": [
        "# identificando os outliers para a variável minimum_nights\n",
        "q1_minimum_nights = df.minimum_nights.quantile(.25)\n",
        "q3_minimum_nights = df.minimum_nights.quantile(.75)\n",
        "IQR_minimum_nights = q3_minimum_nights - q1_minimum_nights\n",
        "print('IQR da variável minimum_nights: ', IQR_minimum_nights)\n",
        "\n",
        "# definindo os limites                                       \n",
        "sup_minimum_nights = q3_minimum_nights + 1.5 * IQR_minimum_nights\n",
        "inf_minimum_nights = q1_minimum_nights - 1.5 * IQR_minimum_nights\n",
        "\n",
        "print('Limite superior de minimum_nights: ', sup_minimum_nights)\n",
        "print('Limite inferior de minimum_nights: ', inf_minimum_nights)"
      ]
    },
    {
      "cell_type": "code",
      "execution_count": 15,
      "metadata": {
        "tags": [],
        "id": "AZq7GLFYbyVm",
        "outputId": "6e1e913a-5d5e-4a1d-f260-103e29f11393",
        "colab": {
          "base_uri": "https://localhost:8080/",
          "height": 279
        }
      },
      "outputs": [
        {
          "output_type": "display_data",
          "data": {
            "text/plain": [
              "<Figure size 1080x216 with 1 Axes>"
            ],
            "image/png": "[encoded data removed]"
          },
          "metadata": {
            "needs_background": "light"
          }
        },
        {
          "output_type": "stream",
          "name": "stdout",
          "text": [
            "O dataset possui 9128 colunas\n",
            "1244 Entradas acima de 122214.0\n",
            "Representam 13.63% do dataset\n"
          ]
        }
      ],
      "source": [
        "# verificando o conjunto original\n",
        "fig, ax = plt.subplots(figsize=(15,3))\n",
        "df.minimum_nights.plot(kind='box', vert=False);\n",
        "ax.set_title('Dataset Original - minimum_nights')\n",
        "plt.show()\n",
        "print(\"O dataset possui {} colunas\".format(df.shape[0]))\n",
        "print(\"{} Entradas acima de 122214.0\".format(len(df[df.minimum_nights > 6.0])))\n",
        "print(\"Representam {:.2f}% do dataset\".format((len(df[df.minimum_nights > 6.0]) / df.shape[0])*100))"
      ]
    },
    {
      "cell_type": "code",
      "execution_count": 16,
      "metadata": {
        "tags": [],
        "id": "akfK-iv2byVn",
        "outputId": "d7ea1bd2-37c0-4275-c337-0c72725a5b5a",
        "colab": {
          "base_uri": "https://localhost:8080/"
        }
      },
      "outputs": [
        {
          "output_type": "stream",
          "name": "stdout",
          "text": [
            "Shape antes da limpeza:  (9128, 18)\n",
            "Shape após a limpeza:  (7396, 18)\n"
          ]
        }
      ],
      "source": [
        "#limpando o dataset\n",
        "df_clean = df.copy()\n",
        "\n",
        "df_clean.drop(df_clean[df_clean.price > 122214.0].index, axis=0, inplace=True)\n",
        "df_clean.drop(df_clean[df_clean.price == 0.0].index, axis=0, inplace=True)\n",
        "df_clean.drop(df_clean[df_clean.minimum_nights > 7].index, axis=0, inplace=True)\n",
        "\n",
        "print('Shape antes da limpeza: ', df.shape)\n",
        "print('Shape após a limpeza: ',df_clean.shape)\n",
        "     "
      ]
    },
    {
      "cell_type": "code",
      "execution_count": 17,
      "metadata": {
        "tags": [],
        "id": "cIh598wjbyVn",
        "outputId": "e6b3275c-79fd-426e-d503-abab831ad865",
        "colab": {
          "base_uri": "https://localhost:8080/",
          "height": 262
        }
      },
      "outputs": [
        {
          "output_type": "display_data",
          "data": {
            "text/plain": [
              "<Figure size 1080x216 with 1 Axes>"
            ],
            "image/png": "[encoded data removed]"
          },
          "metadata": {
            "needs_background": "light"
          }
        },
        {
          "output_type": "stream",
          "name": "stdout",
          "text": [
            "Tamanho original: 9128 \n",
            "Tamanho atual: 7396 \n"
          ]
        }
      ],
      "source": [
        "# verificando o conjunto limpo\n",
        "fig, ax = plt.subplots(figsize=(15,3))\n",
        "df_clean.price.plot(kind='box', vert=False);\n",
        "ax.set_title('Dataset Limpo - price')\n",
        "plt.show()\n",
        "print(\"Tamanho original: {} \".format(df.shape[0]))\n",
        "print(\"Tamanho atual: {} \".format(df_clean.shape[0]))"
      ]
    },
    {
      "cell_type": "code",
      "execution_count": 18,
      "metadata": {
        "tags": [],
        "id": "-ti4BzA3byVn",
        "outputId": "12eef9b6-19b8-4688-c29c-f92579a70b54",
        "colab": {
          "base_uri": "https://localhost:8080/",
          "height": 879
        }
      },
      "outputs": [
        {
          "output_type": "display_data",
          "data": {
            "text/plain": [
              "<Figure size 1440x1080 with 12 Axes>"
            ],
            "image/png": "[encoded data removed]"
          },
          "metadata": {
            "needs_background": "light"
          }
        }
      ],
      "source": [
        "# verificando as distribuições limpas\n",
        "df_clean.hist(figsize=(20,15), grid=False);\n",
        "     "
      ]
    },
    {
      "cell_type": "code",
      "execution_count": 19,
      "metadata": {
        "tags": [],
        "id": "B6BJLoAqbyVo",
        "outputId": "91dfc39a-15d4-4585-81f0-158dfc7e984c",
        "colab": {
          "base_uri": "https://localhost:8080/",
          "height": 364
        }
      },
      "outputs": [
        {
          "output_type": "execute_result",
          "data": {
            "text/plain": [
              "                         id      host_id  neighbourhood_group  latitude  \\\n",
              "count               7396.00      7396.00                 0.00   7396.00   \n",
              "mean  225069048866107008.00 183625268.30                  NaN    -33.40   \n",
              "std   325582175028837184.00 144961570.10                  NaN      0.00   \n",
              "min                49392.00     30509.00                  NaN    -33.60   \n",
              "25%             23684873.20  58328836.50                  NaN    -33.40   \n",
              "50%             41707584.00 152758429.00                  NaN    -33.40   \n",
              "75%   629024531280396544.00 280536365.00                  NaN    -33.40   \n",
              "max   791556310640919424.00 492840994.00                  NaN    -33.20   \n",
              "\n",
              "       longitude     price  minimum_nights  number_of_reviews  \\\n",
              "count    7396.00   7396.00         7396.00            7396.00   \n",
              "mean      -70.60  45017.10            2.20              27.00   \n",
              "std         0.00  23097.20            1.50              52.80   \n",
              "min       -70.90   6830.00            1.00               0.00   \n",
              "25%       -70.60  28547.50            1.00               1.00   \n",
              "50%       -70.60  40000.00            2.00               6.00   \n",
              "75%       -70.60  57310.20            3.00              28.00   \n",
              "max       -70.20 122207.00            7.00             852.00   \n",
              "\n",
              "       reviews_per_month  calculated_host_listings_count  availability_365  \\\n",
              "count            5721.00                         7396.00           7396.00   \n",
              "mean                1.50                            4.30            251.40   \n",
              "std                 1.70                            6.80            129.10   \n",
              "min                 0.00                            1.00              0.00   \n",
              "25%                 0.30                            1.00            145.00   \n",
              "50%                 1.00                            1.00            329.00   \n",
              "75%                 2.00                            5.00            362.00   \n",
              "max                20.90                           44.00            365.00   \n",
              "\n",
              "       number_of_reviews_ltm  \n",
              "count                7396.00  \n",
              "mean                   10.20  \n",
              "std                    17.40  \n",
              "min                     0.00  \n",
              "25%                     0.00  \n",
              "50%                     3.00  \n",
              "75%                    13.00  \n",
              "max                   349.00  "
            ],
            "text/html": [
              "\n",
              "  <div id=\"df-2cb42060-a63f-4219-b31e-1c0dd95b7b83\">\n",
              "    <div class=\"colab-df-container\">\n",
              "      <div>\n",
              "<style scoped>\n",
              "    .dataframe tbody tr th:only-of-type {\n",
              "        vertical-align: middle;\n",
              "    }\n",
              "\n",
              "    .dataframe tbody tr th {\n",
              "        vertical-align: top;\n",
              "    }\n",
              "\n",
              "    .dataframe thead th {\n",
              "        text-align: right;\n",
              "    }\n",
              "</style>\n",
              "<table border=\"1\" class=\"dataframe\">\n",
              "  <thead>\n",
              "    <tr style=\"text-align: right;\">\n",
              "      <th></th>\n",
              "      <th>id</th>\n",
              "      <th>host_id</th>\n",
              "      <th>neighbourhood_group</th>\n",
              "      <th>latitude</th>\n",
              "      <th>longitude</th>\n",
              "      <th>price</th>\n",
              "      <th>minimum_nights</th>\n",
              "      <th>number_of_reviews</th>\n",
              "      <th>reviews_per_month</th>\n",
              "      <th>calculated_host_listings_count</th>\n",
              "      <th>availability_365</th>\n",
              "      <th>number_of_reviews_ltm</th>\n",
              "    </tr>\n",
              "  </thead>\n",
              "  <tbody>\n",
              "    <tr>\n",
              "      <th>count</th>\n",
              "      <td>7396.00</td>\n",
              "      <td>7396.00</td>\n",
              "      <td>0.00</td>\n",
              "      <td>7396.00</td>\n",
              "      <td>7396.00</td>\n",
              "      <td>7396.00</td>\n",
              "      <td>7396.00</td>\n",
              "      <td>7396.00</td>\n",
              "      <td>5721.00</td>\n",
              "      <td>7396.00</td>\n",
              "      <td>7396.00</td>\n",
              "      <td>7396.00</td>\n",
              "    </tr>\n",
              "    <tr>\n",
              "      <th>mean</th>\n",
              "      <td>225069048866107008.00</td>\n",
              "      <td>183625268.30</td>\n",
              "      <td>NaN</td>\n",
              "      <td>-33.40</td>\n",
              "      <td>-70.60</td>\n",
              "      <td>45017.10</td>\n",
              "      <td>2.20</td>\n",
              "      <td>27.00</td>\n",
              "      <td>1.50</td>\n",
              "      <td>4.30</td>\n",
              "      <td>251.40</td>\n",
              "      <td>10.20</td>\n",
              "    </tr>\n",
              "    <tr>\n",
              "      <th>std</th>\n",
              "      <td>325582175028837184.00</td>\n",
              "      <td>144961570.10</td>\n",
              "      <td>NaN</td>\n",
              "      <td>0.00</td>\n",
              "      <td>0.00</td>\n",
              "      <td>23097.20</td>\n",
              "      <td>1.50</td>\n",
              "      <td>52.80</td>\n",
              "      <td>1.70</td>\n",
              "      <td>6.80</td>\n",
              "      <td>129.10</td>\n",
              "      <td>17.40</td>\n",
              "    </tr>\n",
              "    <tr>\n",
              "      <th>min</th>\n",
              "      <td>49392.00</td>\n",
              "      <td>30509.00</td>\n",
              "      <td>NaN</td>\n",
              "      <td>-33.60</td>\n",
              "      <td>-70.90</td>\n",
              "      <td>6830.00</td>\n",
              "      <td>1.00</td>\n",
              "      <td>0.00</td>\n",
              "      <td>0.00</td>\n",
              "      <td>1.00</td>\n",
              "      <td>0.00</td>\n",
              "      <td>0.00</td>\n",
              "    </tr>\n",
              "    <tr>\n",
              "      <th>25%</th>\n",
              "      <td>23684873.20</td>\n",
              "      <td>58328836.50</td>\n",
              "      <td>NaN</td>\n",
              "      <td>-33.40</td>\n",
              "      <td>-70.60</td>\n",
              "      <td>28547.50</td>\n",
              "      <td>1.00</td>\n",
              "      <td>1.00</td>\n",
              "      <td>0.30</td>\n",
              "      <td>1.00</td>\n",
              "      <td>145.00</td>\n",
              "      <td>0.00</td>\n",
              "    </tr>\n",
              "    <tr>\n",
              "      <th>50%</th>\n",
              "      <td>41707584.00</td>\n",
              "      <td>152758429.00</td>\n",
              "      <td>NaN</td>\n",
              "      <td>-33.40</td>\n",
              "      <td>-70.60</td>\n",
              "      <td>40000.00</td>\n",
              "      <td>2.00</td>\n",
              "      <td>6.00</td>\n",
              "      <td>1.00</td>\n",
              "      <td>1.00</td>\n",
              "      <td>329.00</td>\n",
              "      <td>3.00</td>\n",
              "    </tr>\n",
              "    <tr>\n",
              "      <th>75%</th>\n",
              "      <td>629024531280396544.00</td>\n",
              "      <td>280536365.00</td>\n",
              "      <td>NaN</td>\n",
              "      <td>-33.40</td>\n",
              "      <td>-70.60</td>\n",
              "      <td>57310.20</td>\n",
              "      <td>3.00</td>\n",
              "      <td>28.00</td>\n",
              "      <td>2.00</td>\n",
              "      <td>5.00</td>\n",
              "      <td>362.00</td>\n",
              "      <td>13.00</td>\n",
              "    </tr>\n",
              "    <tr>\n",
              "      <th>max</th>\n",
              "      <td>791556310640919424.00</td>\n",
              "      <td>492840994.00</td>\n",
              "      <td>NaN</td>\n",
              "      <td>-33.20</td>\n",
              "      <td>-70.20</td>\n",
              "      <td>122207.00</td>\n",
              "      <td>7.00</td>\n",
              "      <td>852.00</td>\n",
              "      <td>20.90</td>\n",
              "      <td>44.00</td>\n",
              "      <td>365.00</td>\n",
              "      <td>349.00</td>\n",
              "    </tr>\n",
              "  </tbody>\n",
              "</table>\n",
              "</div>\n",
              "      <button class=\"colab-df-convert\" onclick=\"convertToInteractive('df-2cb42060-a63f-4219-b31e-1c0dd95b7b83')\"\n",
              "              title=\"Convert this dataframe to an interactive table.\"\n",
              "              style=\"display:none;\">\n",
              "        \n",
              "  <svg xmlns=\"http://www.w3.org/2000/svg\" height=\"24px\"viewBox=\"0 0 24 24\"\n",
              "       width=\"24px\">\n",
              "    <path d=\"M0 0h24v24H0V0z\" fill=\"none\"/>\n",
              "    <path d=\"M18.56 5.44l.94 2.06.94-2.06 2.06-.94-2.06-.94-.94-2.06-.94 2.06-2.06.94zm-11 1L8.5 8.5l.94-2.06 2.06-.94-2.06-.94L8.5 2.5l-.94 2.06-2.06.94zm10 10l.94 2.06.94-2.06 2.06-.94-2.06-.94-.94-2.06-.94 2.06-2.06.94z\"/><path d=\"M17.41 7.96l-1.37-1.37c-.4-.4-.92-.59-1.43-.59-.52 0-1.04.2-1.43.59L10.3 9.45l-7.72 7.72c-.78.78-.78 2.05 0 2.83L4 21.41c.39.39.9.59 1.41.59.51 0 1.02-.2 1.41-.59l7.78-7.78 2.81-2.81c.8-.78.8-2.07 0-2.86zM5.41 20L4 18.59l7.72-7.72 1.47 1.35L5.41 20z\"/>\n",
              "  </svg>\n",
              "      </button>\n",
              "      \n",
              "  <style>\n",
              "    .colab-df-container {\n",
              "      display:flex;\n",
              "      flex-wrap:wrap;\n",
              "      gap: 12px;\n",
              "    }\n",
              "\n",
              "    .colab-df-convert {\n",
              "      background-color: #E8F0FE;\n",
              "      border: none;\n",
              "      border-radius: 50%;\n",
              "      cursor: pointer;\n",
              "      display: none;\n",
              "      fill: #1967D2;\n",
              "      height: 32px;\n",
              "      padding: 0 0 0 0;\n",
              "      width: 32px;\n",
              "    }\n",
              "\n",
              "    .colab-df-convert:hover {\n",
              "      background-color: #E2EBFA;\n",
              "      box-shadow: 0px 1px 2px rgba(60, 64, 67, 0.3), 0px 1px 3px 1px rgba(60, 64, 67, 0.15);\n",
              "      fill: #174EA6;\n",
              "    }\n",
              "\n",
              "    [theme=dark] .colab-df-convert {\n",
              "      background-color: #3B4455;\n",
              "      fill: #D2E3FC;\n",
              "    }\n",
              "\n",
              "    [theme=dark] .colab-df-convert:hover {\n",
              "      background-color: #434B5C;\n",
              "      box-shadow: 0px 1px 3px 1px rgba(0, 0, 0, 0.15);\n",
              "      filter: drop-shadow(0px 1px 2px rgba(0, 0, 0, 0.3));\n",
              "      fill: #FFFFFF;\n",
              "    }\n",
              "  </style>\n",
              "\n",
              "      <script>\n",
              "        const buttonEl =\n",
              "          document.querySelector('#df-2cb42060-a63f-4219-b31e-1c0dd95b7b83 button.colab-df-convert');\n",
              "        buttonEl.style.display =\n",
              "          google.colab.kernel.accessAllowed ? 'block' : 'none';\n",
              "\n",
              "        async function convertToInteractive(key) {\n",
              "          const element = document.querySelector('#df-2cb42060-a63f-4219-b31e-1c0dd95b7b83');\n",
              "          const dataTable =\n",
              "            await google.colab.kernel.invokeFunction('convertToInteractive',\n",
              "                                                     [key], {});\n",
              "          if (!dataTable) return;\n",
              "\n",
              "          const docLinkHtml = 'Like what you see? Visit the ' +\n",
              "            '<a target=\"_blank\" href=https://colab.research.google.com/notebooks/data_table.ipynb>data table notebook</a>'\n",
              "            + ' to learn more about interactive tables.';\n",
              "          element.innerHTML = '';\n",
              "          dataTable['output_type'] = 'display_data';\n",
              "          await google.colab.output.renderOutput(dataTable, element);\n",
              "          const docLink = document.createElement('div');\n",
              "          docLink.innerHTML = docLinkHtml;\n",
              "          element.appendChild(docLink);\n",
              "        }\n",
              "      </script>\n",
              "    </div>\n",
              "  </div>\n",
              "  "
            ]
          },
          "metadata": {},
          "execution_count": 19
        }
      ],
      "source": [
        "# analisando o resumo estatístico limpo\n",
        "df_clean.describe().round(1)"
      ]
    },
    {
      "cell_type": "markdown",
      "metadata": {
        "id": "IXn2oIo5qx-w"
      },
      "source": [
        "### **Q6. Qual a correlação existente entre as variáveis**\n",
        "\n",
        "A correlação é uma medida estatística que indica a relação entre duas variáveis. Pode ser uma correlação positiva, ou negativa. No nosso contexto, buscamos semelhanças entra as variáveis.\n",
        "\n",
        "A correlação pode ser mensurada, e depende do ceficiente de correlação para estabelecer sua intensidade.\n",
        "\n",
        "Para identificar as correlações entre as variáveis de interesse, vamos:\n",
        "\n",
        "*Criar uma matriz de correlação\n",
        "*Criar um heatmap a partir dessa matriz, usando a biblioteca `**siaborn**`"
      ]
    },
    {
      "cell_type": "code",
      "execution_count": 20,
      "metadata": {
        "id": "x2ayzBajqxyd",
        "outputId": "f0b9cb6d-840f-4fe4-e446-cc164eb71e71",
        "colab": {
          "base_uri": "https://localhost:8080/",
          "height": 238
        }
      },
      "outputs": [
        {
          "output_type": "display_data",
          "data": {
            "text/plain": [
              "                                price  minimum_nights  number_of_reviews  \\\n",
              "price                            1.00            0.02              -0.01   \n",
              "minimum_nights                   0.02            1.00              -0.04   \n",
              "number_of_reviews               -0.01           -0.04               1.00   \n",
              "reviews_per_month               -0.00           -0.23               0.52   \n",
              "calculated_host_listings_count   0.20           -0.20               0.03   \n",
              "availability_365                 0.09           -0.14              -0.05   \n",
              "\n",
              "                                reviews_per_month  \\\n",
              "price                                       -0.00   \n",
              "minimum_nights                              -0.23   \n",
              "number_of_reviews                            0.52   \n",
              "reviews_per_month                            1.00   \n",
              "calculated_host_listings_count               0.05   \n",
              "availability_365                             0.12   \n",
              "\n",
              "                                calculated_host_listings_count  \\\n",
              "price                                                     0.20   \n",
              "minimum_nights                                           -0.20   \n",
              "number_of_reviews                                         0.03   \n",
              "reviews_per_month                                         0.05   \n",
              "calculated_host_listings_count                            1.00   \n",
              "availability_365                                          0.05   \n",
              "\n",
              "                                availability_365  \n",
              "price                                       0.09  \n",
              "minimum_nights                             -0.14  \n",
              "number_of_reviews                          -0.05  \n",
              "reviews_per_month                           0.12  \n",
              "calculated_host_listings_count              0.05  \n",
              "availability_365                            1.00  "
            ],
            "text/html": [
              "\n",
              "  <div id=\"df-23e4efbf-9659-4127-8ffd-8e04a946536b\">\n",
              "    <div class=\"colab-df-container\">\n",
              "      <div>\n",
              "<style scoped>\n",
              "    .dataframe tbody tr th:only-of-type {\n",
              "        vertical-align: middle;\n",
              "    }\n",
              "\n",
              "    .dataframe tbody tr th {\n",
              "        vertical-align: top;\n",
              "    }\n",
              "\n",
              "    .dataframe thead th {\n",
              "        text-align: right;\n",
              "    }\n",
              "</style>\n",
              "<table border=\"1\" class=\"dataframe\">\n",
              "  <thead>\n",
              "    <tr style=\"text-align: right;\">\n",
              "      <th></th>\n",
              "      <th>price</th>\n",
              "      <th>minimum_nights</th>\n",
              "      <th>number_of_reviews</th>\n",
              "      <th>reviews_per_month</th>\n",
              "      <th>calculated_host_listings_count</th>\n",
              "      <th>availability_365</th>\n",
              "    </tr>\n",
              "  </thead>\n",
              "  <tbody>\n",
              "    <tr>\n",
              "      <th>price</th>\n",
              "      <td>1.00</td>\n",
              "      <td>0.02</td>\n",
              "      <td>-0.01</td>\n",
              "      <td>-0.00</td>\n",
              "      <td>0.20</td>\n",
              "      <td>0.09</td>\n",
              "    </tr>\n",
              "    <tr>\n",
              "      <th>minimum_nights</th>\n",
              "      <td>0.02</td>\n",
              "      <td>1.00</td>\n",
              "      <td>-0.04</td>\n",
              "      <td>-0.23</td>\n",
              "      <td>-0.20</td>\n",
              "      <td>-0.14</td>\n",
              "    </tr>\n",
              "    <tr>\n",
              "      <th>number_of_reviews</th>\n",
              "      <td>-0.01</td>\n",
              "      <td>-0.04</td>\n",
              "      <td>1.00</td>\n",
              "      <td>0.52</td>\n",
              "      <td>0.03</td>\n",
              "      <td>-0.05</td>\n",
              "    </tr>\n",
              "    <tr>\n",
              "      <th>reviews_per_month</th>\n",
              "      <td>-0.00</td>\n",
              "      <td>-0.23</td>\n",
              "      <td>0.52</td>\n",
              "      <td>1.00</td>\n",
              "      <td>0.05</td>\n",
              "      <td>0.12</td>\n",
              "    </tr>\n",
              "    <tr>\n",
              "      <th>calculated_host_listings_count</th>\n",
              "      <td>0.20</td>\n",
              "      <td>-0.20</td>\n",
              "      <td>0.03</td>\n",
              "      <td>0.05</td>\n",
              "      <td>1.00</td>\n",
              "      <td>0.05</td>\n",
              "    </tr>\n",
              "    <tr>\n",
              "      <th>availability_365</th>\n",
              "      <td>0.09</td>\n",
              "      <td>-0.14</td>\n",
              "      <td>-0.05</td>\n",
              "      <td>0.12</td>\n",
              "      <td>0.05</td>\n",
              "      <td>1.00</td>\n",
              "    </tr>\n",
              "  </tbody>\n",
              "</table>\n",
              "</div>\n",
              "      <button class=\"colab-df-convert\" onclick=\"convertToInteractive('df-23e4efbf-9659-4127-8ffd-8e04a946536b')\"\n",
              "              title=\"Convert this dataframe to an interactive table.\"\n",
              "              style=\"display:none;\">\n",
              "        \n",
              "  <svg xmlns=\"http://www.w3.org/2000/svg\" height=\"24px\"viewBox=\"0 0 24 24\"\n",
              "       width=\"24px\">\n",
              "    <path d=\"M0 0h24v24H0V0z\" fill=\"none\"/>\n",
              "    <path d=\"M18.56 5.44l.94 2.06.94-2.06 2.06-.94-2.06-.94-.94-2.06-.94 2.06-2.06.94zm-11 1L8.5 8.5l.94-2.06 2.06-.94-2.06-.94L8.5 2.5l-.94 2.06-2.06.94zm10 10l.94 2.06.94-2.06 2.06-.94-2.06-.94-.94-2.06-.94 2.06-2.06.94z\"/><path d=\"M17.41 7.96l-1.37-1.37c-.4-.4-.92-.59-1.43-.59-.52 0-1.04.2-1.43.59L10.3 9.45l-7.72 7.72c-.78.78-.78 2.05 0 2.83L4 21.41c.39.39.9.59 1.41.59.51 0 1.02-.2 1.41-.59l7.78-7.78 2.81-2.81c.8-.78.8-2.07 0-2.86zM5.41 20L4 18.59l7.72-7.72 1.47 1.35L5.41 20z\"/>\n",
              "  </svg>\n",
              "      </button>\n",
              "      \n",
              "  <style>\n",
              "    .colab-df-container {\n",
              "      display:flex;\n",
              "      flex-wrap:wrap;\n",
              "      gap: 12px;\n",
              "    }\n",
              "\n",
              "    .colab-df-convert {\n",
              "      background-color: #E8F0FE;\n",
              "      border: none;\n",
              "      border-radius: 50%;\n",
              "      cursor: pointer;\n",
              "      display: none;\n",
              "      fill: #1967D2;\n",
              "      height: 32px;\n",
              "      padding: 0 0 0 0;\n",
              "      width: 32px;\n",
              "    }\n",
              "\n",
              "    .colab-df-convert:hover {\n",
              "      background-color: #E2EBFA;\n",
              "      box-shadow: 0px 1px 2px rgba(60, 64, 67, 0.3), 0px 1px 3px 1px rgba(60, 64, 67, 0.15);\n",
              "      fill: #174EA6;\n",
              "    }\n",
              "\n",
              "    [theme=dark] .colab-df-convert {\n",
              "      background-color: #3B4455;\n",
              "      fill: #D2E3FC;\n",
              "    }\n",
              "\n",
              "    [theme=dark] .colab-df-convert:hover {\n",
              "      background-color: #434B5C;\n",
              "      box-shadow: 0px 1px 3px 1px rgba(0, 0, 0, 0.15);\n",
              "      filter: drop-shadow(0px 1px 2px rgba(0, 0, 0, 0.3));\n",
              "      fill: #FFFFFF;\n",
              "    }\n",
              "  </style>\n",
              "\n",
              "      <script>\n",
              "        const buttonEl =\n",
              "          document.querySelector('#df-23e4efbf-9659-4127-8ffd-8e04a946536b button.colab-df-convert');\n",
              "        buttonEl.style.display =\n",
              "          google.colab.kernel.accessAllowed ? 'block' : 'none';\n",
              "\n",
              "        async function convertToInteractive(key) {\n",
              "          const element = document.querySelector('#df-23e4efbf-9659-4127-8ffd-8e04a946536b');\n",
              "          const dataTable =\n",
              "            await google.colab.kernel.invokeFunction('convertToInteractive',\n",
              "                                                     [key], {});\n",
              "          if (!dataTable) return;\n",
              "\n",
              "          const docLinkHtml = 'Like what you see? Visit the ' +\n",
              "            '<a target=\"_blank\" href=https://colab.research.google.com/notebooks/data_table.ipynb>data table notebook</a>'\n",
              "            + ' to learn more about interactive tables.';\n",
              "          element.innerHTML = '';\n",
              "          dataTable['output_type'] = 'display_data';\n",
              "          await google.colab.output.renderOutput(dataTable, element);\n",
              "          const docLink = document.createElement('div');\n",
              "          docLink.innerHTML = docLinkHtml;\n",
              "          element.appendChild(docLink);\n",
              "        }\n",
              "      </script>\n",
              "    </div>\n",
              "  </div>\n",
              "  "
            ]
          },
          "metadata": {}
        }
      ],
      "source": [
        "# criar uma matriz de correlação\n",
        "corr = df_clean[['price', 'minimum_nights', 'number_of_reviews', 'reviews_per_month',\n",
        "    'calculated_host_listings_count', 'availability_365']].corr()\n",
        "\n",
        "# mostrar a matriz de correlação\n",
        "display(corr)"
      ]
    },
    {
      "cell_type": "code",
      "execution_count": 21,
      "metadata": {
        "id": "91UujDr6ueqE",
        "outputId": "4e0a7af3-40b6-406c-d596-ff6e8f3821d3",
        "colab": {
          "base_uri": "https://localhost:8080/",
          "height": 411
        }
      },
      "outputs": [
        {
          "output_type": "display_data",
          "data": {
            "text/plain": [
              "<Figure size 432x288 with 2 Axes>"
            ],
            "image/png": "[encoded data removed]"
          },
          "metadata": {
            "needs_background": "light"
          }
        }
      ],
      "source": [
        "# plotar um heatmap a partir das correlações\n",
        "sns.heatmap(corr, cmap='RdBu', fmt='.2f', square=True, linecolor='white', annot=True);"
      ]
    },
    {
      "cell_type": "markdown",
      "metadata": {
        "id": "Eub_4U6EbyVp"
      },
      "source": [
        "Não foi observado nenhuma correlação forte entre as variáveis analisadas."
      ]
    },
    {
      "cell_type": "markdown",
      "metadata": {
        "id": "7b6RMWpuHKN-"
      },
      "source": [
        "### **Q7. Qual o tipo de imóvel mais alugado no Airbnb?**\n",
        "\n",
        "A variável room_type indica o tipo de acomodação que está sendo anunciada (por exemplo, apartamento inteiro, quarto privado, quarto compartilhado, etc.)\n",
        "\n",
        "Vamos contabilizar a quantidde de ocorreências de cada tipo de aluguel, por meio do método `value_counts()`"
      ]
    },
    {
      "cell_type": "code",
      "execution_count": 22,
      "metadata": {
        "id": "ueLPNWvPHgfB",
        "outputId": "acd813de-af93-4059-f616-c04de2fbe65c",
        "colab": {
          "base_uri": "https://localhost:8080/"
        }
      },
      "outputs": [
        {
          "output_type": "execute_result",
          "data": {
            "text/plain": [
              "Entire home/apt    4663\n",
              "Private room       2573\n",
              "Shared room         116\n",
              "Hotel room           44\n",
              "Name: room_type, dtype: int64"
            ]
          },
          "metadata": {},
          "execution_count": 22
        }
      ],
      "source": [
        "# mostrar a quantidade de cada tipo de imóvel disponível\n",
        "df_clean.room_type.value_counts()"
      ]
    },
    {
      "cell_type": "code",
      "execution_count": 23,
      "metadata": {
        "id": "EvwoO-XAHhIm",
        "outputId": "0ab720cc-6f05-4f7b-f998-cc5304dcb630",
        "colab": {
          "base_uri": "https://localhost:8080/"
        }
      },
      "outputs": [
        {
          "output_type": "execute_result",
          "data": {
            "text/plain": [
              "Entire home/apt   0.63\n",
              "Private room      0.35\n",
              "Shared room       0.02\n",
              "Hotel room        0.01\n",
              "Name: room_type, dtype: float64"
            ]
          },
          "metadata": {},
          "execution_count": 23
        }
      ],
      "source": [
        "# mostrar a porcentagem de cada tipo de imóvel disponível\n",
        "df_clean.room_type.value_counts() / df_clean.shape[0]"
      ]
    },
    {
      "cell_type": "markdown",
      "metadata": {
        "id": "MFa5NbnLJMcd"
      },
      "source": [
        "### **Q8. Qual a localidade mais cara do dataset?**\n",
        "Estamos querendo fazer a comparação de um variável em função da outra. Nesse caso, vamos comparar bairros (neighbourhood) a partir do preço de locação (price). Para isso, usaremos a função `groupby()`. \n"
      ]
    },
    {
      "cell_type": "code",
      "execution_count": 24,
      "metadata": {
        "id": "MD_xa143JZpi",
        "outputId": "fd6c3784-55b5-4adc-b9cc-1feec521034b",
        "colab": {
          "base_uri": "https://localhost:8080/"
        }
      },
      "outputs": [
        {
          "output_type": "execute_result",
          "data": {
            "text/plain": [
              "neighbourhood\n",
              "Lo Espejo      91890.00\n",
              "Lo Barnechea   70435.13\n",
              "Vitacura       62143.84\n",
              "Las Condes     58220.75\n",
              "Providencia    48658.55\n",
              "Pudahuel       46817.16\n",
              "Huechuraba     43333.39\n",
              "La Florida     42720.05\n",
              "San Miguel     39853.40\n",
              "Santiago       39415.92\n",
              "Name: price, dtype: float64"
            ]
          },
          "metadata": {},
          "execution_count": 24
        }
      ],
      "source": [
        "# ver preços por bairros, na média\n",
        "df_clean.groupby(['neighbourhood']).price.mean().sort_values(ascending=False)[:10]"
      ]
    },
    {
      "cell_type": "code",
      "execution_count": 25,
      "metadata": {
        "tags": [],
        "id": "cIfXg-bTbyVq",
        "outputId": "36c9b27d-422d-4687-c343-29df5476d0ab",
        "colab": {
          "base_uri": "https://localhost:8080/"
        }
      },
      "outputs": [
        {
          "output_type": "execute_result",
          "data": {
            "text/plain": [
              "Santiago               2684\n",
              "Providencia            1547\n",
              "Las Condes             1243\n",
              "Ñuñoa                   521\n",
              "Vitacura                210\n",
              "Recoleta                179\n",
              "Estación Central        126\n",
              "Lo Barnechea            119\n",
              "San Miguel              113\n",
              "La Florida               84\n",
              "Macul                    79\n",
              "La Reina                 78\n",
              "Maipú                    68\n",
              "Peñalolén                56\n",
              "Pudahuel                 51\n",
              "Independencia            38\n",
              "San Joaquín              38\n",
              "La Cisterna              37\n",
              "Huechuraba               33\n",
              "Quinta Normal            27\n",
              "Quilicura                19\n",
              "Renca                    12\n",
              "Cerrillos                 7\n",
              "Pedro Aguirre Cerda       6\n",
              "El Bosque                 5\n",
              "Lo Prado                  4\n",
              "La Granja                 4\n",
              "Conchalí                  4\n",
              "Cerro Navia               2\n",
              "Lo Espejo                 1\n",
              "San Ramón                 1\n",
              "Name: neighbourhood, dtype: int64"
            ]
          },
          "metadata": {},
          "execution_count": 25
        }
      ],
      "source": [
        "#Analisando a quantidade de entradas por bairro\n",
        "df_clean.neighbourhood.value_counts()\n",
        "     "
      ]
    },
    {
      "cell_type": "markdown",
      "metadata": {
        "tags": [],
        "id": "b-_dRjXGbyVr"
      },
      "source": [
        "Ao avaliar os dados acima, constatamos que os bairros Lo Espejo apresenta uma média elevada de valor, entretanto com um número reduzido de registros, conforme evidenciado acima. Diante dessa situação, optaremos por excluir esse bairro da análise, devido à sua baixa representatividade.\n",
        "\n",
        "\n",
        "\n"
      ]
    },
    {
      "cell_type": "markdown",
      "metadata": {
        "id": "UxVJqJ_3W59I",
        "tags": []
      },
      "source": [
        "## **Q9. plotar os imóveis pela latitude-longitude**\n"
      ]
    },
    {
      "cell_type": "code",
      "execution_count": 26,
      "metadata": {
        "tags": [],
        "id": "Q_XlfKX1byVr",
        "outputId": "c9b82f23-b1ba-415f-ec05-d42cad79eb77",
        "colab": {
          "base_uri": "https://localhost:8080/",
          "height": 469
        }
      },
      "outputs": [
        {
          "output_type": "display_data",
          "data": {
            "text/plain": [
              "<Figure size 864x576 with 2 Axes>"
            ],
            "image/png": "[encoded data removed]"
          },
          "metadata": {
            "needs_background": "light"
          }
        }
      ],
      "source": [
        "# plotar os imóveis pela latitude-longitude\n",
        "df_clean.plot(kind=\"scatter\", x='longitude', y='latitude', alpha=0.4, c=df_clean['price'], s=8,\n",
        "              cmap=plt.get_cmap('jet'), figsize=(12,8));"
      ]
    },
    {
      "cell_type": "markdown",
      "metadata": {
        "id": "GkvAg623RjoR"
      },
      "source": [
        "## Conclusões\n"
      ]
    },
    {
      "cell_type": "markdown",
      "metadata": {
        "id": "rbZ3Hsy9Ypw8"
      },
      "source": [
        "Realizamos uma análise cuidadosa dos dados resumidos do Airbnb e concluímos que é fundamental considerar essas informações antes de alugar um imóvel para viagem. Através dessa análise foi possível obter diversos dados valiosos.\n",
        "\n",
        "Verificamos que há valores atípicos em algumas das variáveis e, caso não sejam devidamente tratados, podem comprometer os resultados da análise.\n",
        "\n",
        "Falando agora de maneira mais direta, se você está planejando uma viagem para Santiago, saiba que cerca de 75% dos visitantes ficam na cidade por pelo menos três noites. A nossa recomendação é se hospedar em Providencia, que fica próximo aos principais pontos turísticos e tem fácil acesso por meio do metrô. Além disso, é possível encontrar uma grande variedade de imóveis para locação na região, com um preço médio de 45017,10 pesos chilenos, equivalente a R$287,36 na cotação atual."
      ]
    }
  ],
  "metadata": {
    "colab": {
      "provenance": [],
      "include_colab_link": true
    },
    "kernelspec": {
      "display_name": "Python 3 (ipykernel)",
      "language": "python",
      "name": "python3"
    },
    "language_info": {
      "codemirror_mode": {
        "name": "ipython",
        "version": 3
      },
      "file_extension": ".py",
      "mimetype": "text/x-python",
      "name": "python",
      "nbconvert_exporter": "python",
      "pygments_lexer": "ipython3",
      "version": "3.10.6"
    }
  },
  "nbformat": 4,
  "nbformat_minor": 0
}